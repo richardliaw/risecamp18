{
 "cells": [
  {
   "cell_type": "markdown",
   "metadata": {},
   "source": [
    "# Tune Tutorial"
   ]
  },
  {
   "cell_type": "code",
   "execution_count": 1,
   "metadata": {},
   "outputs": [
    {
     "ename": "ModuleNotFoundError",
     "evalue": "No module named 'helper'",
     "output_type": "error",
     "traceback": [
      "\u001b[0;31m---------------------------------------------------------------------------\u001b[0m",
      "\u001b[0;31mModuleNotFoundError\u001b[0m                       Traceback (most recent call last)",
      "\u001b[0;32m<ipython-input-1-b1da2f10f7bc>\u001b[0m in \u001b[0;36m<module>\u001b[0;34m()\u001b[0m\n\u001b[0;32m----> 1\u001b[0;31m \u001b[0;32mimport\u001b[0m \u001b[0mhelper\u001b[0m\u001b[0;34m\u001b[0m\u001b[0m\n\u001b[0m",
      "\u001b[0;31mModuleNotFoundError\u001b[0m: No module named 'helper'"
     ]
    }
   ],
   "source": [
    "from helper import load_mnist_data"
   ]
  },
  {
   "cell_type": "markdown",
   "metadata": {},
   "source": [
    "We want to start off by creating a model:"
   ]
  },
  {
   "cell_type": "code",
   "execution_count": null,
   "metadata": {},
   "outputs": [],
   "source": [
    "def train_mnist(args):\n",
    "    x_train, x_test, y_train, y_test = load_mnist_data()\n",
    "    epochs = 12\n",
    "    batch_size = 128\n",
    "    model = Sequential()\n",
    "    model.add(Conv2D(32, kernel_size=(args.kernel1, args.kernel1),\n",
    "                     activation='relu', input_shape=(28, 28, 1)))\n",
    "    model.add(Conv2D(64, (args.kernel2, args.kernel2), activation='relu'))\n",
    "    model.add(MaxPooling2D(pool_size=(args.poolsize, args.poolsize)))\n",
    "    model.add(Dropout(args.dropout1))\n",
    "    model.add(Flatten())\n",
    "    model.add(Dense(args.hidden, activation='relu'))\n",
    "    model.add(Dropout(args.dropout2))\n",
    "    model.add(Dense(num_classes, activation='softmax'))\n",
    "\n",
    "    model.compile(loss=keras.losses.categorical_crossentropy,\n",
    "                  optimizer=keras.optimizers.SGD(\n",
    "                      lr=args.lr, momentum=args.momentum),\n",
    "                  metrics=['accuracy'])\n",
    "    model.fit(x_train, y_train,\n",
    "              batch_size=batch_size,\n",
    "              epochs=epochs,\n",
    "              verbose=1,\n",
    "              validation_data=(x_test, y_test))"
   ]
  },
  {
   "cell_type": "markdown",
   "metadata": {},
   "source": [
    "*Then*, we want to train this model (try out default hyperparameters)"
   ]
  },
  {
   "cell_type": "markdown",
   "metadata": {},
   "source": [
    "Now, let's try running a simple search to find the best hyperparameters"
   ]
  },
  {
   "cell_type": "code",
   "execution_count": null,
   "metadata": {},
   "outputs": [],
   "source": [
    "import argparse\n",
    "parser = argparse.ArgumentParser(description='Keras MNIST Example')\n",
    "parser.add_argument('--steps', type=float, default=0.01, metavar='LR',\n",
    "                    help='learning rate (default: 0.01)')\n",
    "parser.add_argument('--lr', type=float, default=0.01, metavar='LR',\n",
    "                    help='learning rate (default: 0.01)')\n",
    "parser.add_argument('--momentum', type=float, default=0.5, metavar='M',\n",
    "                    help='SGD momentum (default: 0.5)')\n",
    "parser.add_argument('--kernel1', type=int, default=3,\n",
    "                    help='Size of first kernel (default: 3)')\n",
    "parser.add_argument('--kernel2', type=int, default=3,\n",
    "                    help='Size of second kernel (default: 3)')\n",
    "parser.add_argument('--poolsize', type=int, default=2,\n",
    "                    help='Size of Pooling (default: 2)')\n",
    "parser.add_argument('--dropout1', type=float, default=0.25,\n",
    "                    help='Size of first kernel (default: 0.25)')\n",
    "parser.add_argument('--hidden', type=int, default=128,\n",
    "                    help='Size of Hidden Layer (default: 128)')\n",
    "parser.add_argument('--dropout2', type=float, default=0.5,\n",
    "                    help='Size of first kernel (default: 0.5)')"
   ]
  },
  {
   "cell_type": "code",
   "execution_count": null,
   "metadata": {},
   "outputs": [],
   "source": [
    "train_mnist(args)"
   ]
  },
  {
   "cell_type": "markdown",
   "metadata": {},
   "source": [
    "Now, let's use this machine with CPUs and multiplex our training to find the best parameters using a single machine."
   ]
  },
  {
   "cell_type": "code",
   "execution_count": null,
   "metadata": {},
   "outputs": [],
   "source": [
    "import ray\n",
    "from ray import tune\n",
    "from helper import TuneCallback"
   ]
  },
  {
   "cell_type": "code",
   "execution_count": null,
   "metadata": {},
   "outputs": [],
   "source": [
    "def train_mnist(args, cfg, reporter):\n",
    "    vars(args).update(cfg)\n",
    "    x_train, x_test, y_train, y_test = load_data(limit_threads=4)\n",
    "    \n",
    "    epochs = 12\n",
    "    batch_size = 128\n",
    "    num_classes = 10\n",
    "    \n",
    "    model = Sequential()\n",
    "    model.add(Conv2D(32, kernel_size=(args.kernel1, args.kernel1),\n",
    "                     activation='relu', input_shape=(28, 28, 1)))\n",
    "    model.add(Conv2D(64, (args.kernel2, args.kernel2), activation='relu'))\n",
    "    model.add(MaxPooling2D(pool_size=(args.poolsize, args.poolsize)))\n",
    "    model.add(Dropout(args.dropout1))\n",
    "    model.add(Flatten())\n",
    "    model.add(Dense(args.hidden, activation='relu'))\n",
    "    model.add(Dropout(args.dropout2))\n",
    "    model.add(Dense(num_classes, activation='softmax'))\n",
    "\n",
    "    model.compile(loss=keras.losses.categorical_crossentropy,\n",
    "                  optimizer=keras.optimizers.SGD(\n",
    "                      lr=args.lr, momentum=args.momentum),\n",
    "                  metrics=['accuracy'])\n",
    "    model.fit(x_train, y_train,\n",
    "              batch_size=batch_size,\n",
    "              epochs=epochs,\n",
    "              verbose=1,\n",
    "              validation_data=(x_test, y_test),\n",
    "              callbacks=[TuneCallback(reporter)])"
   ]
  },
  {
   "cell_type": "code",
   "execution_count": null,
   "metadata": {},
   "outputs": [],
   "source": [
    "ray.init()\n",
    "configuration = {\"exp\": {\n",
    "        \"stop\": {\n",
    "            \"mean_accuracy\": 0.99,\n",
    "            \"timesteps_total\": 300\n",
    "        },\n",
    "        \"run\": lambda cfg, rprtr: train_mnist(args, cfg, rprtr),\n",
    "#         \"repeat\": 100,\n",
    "        \"config\": {\n",
    "            \"lr\": lambda spec: np.random.uniform(0.001, 0.1),\n",
    "            \"momentum\": lambda spec: np.random.uniform(0.1, 0.9),\n",
    "            \"hidden\": lambda spec: np.random.randint(32, 512),\n",
    "            \"dropout1\": lambda spec: np.random.uniform(0.2, 0.8),\n",
    "        }\n",
    "    }\n",
    "}\n",
    "tune.run_experiments(configuration)"
   ]
  }
 ],
 "metadata": {
  "kernelspec": {
   "display_name": "Python 3",
   "language": "python",
   "name": "python3"
  },
  "language_info": {
   "codemirror_mode": {
    "name": "ipython",
    "version": 3
   },
   "file_extension": ".py",
   "mimetype": "text/x-python",
   "name": "python",
   "nbconvert_exporter": "python",
   "pygments_lexer": "ipython3",
   "version": "3.6.4"
  }
 },
 "nbformat": 4,
 "nbformat_minor": 2
}
