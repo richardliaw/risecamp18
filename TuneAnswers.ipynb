{
 "cells": [
  {
   "cell_type": "markdown",
   "metadata": {},
   "source": [
    "# Tune Tutorial"
   ]
  },
  {
   "cell_type": "code",
   "execution_count": null,
   "metadata": {},
   "outputs": [],
   "source": [
    "from helper import load_data\n",
    "import numpy as np\n",
    "\n",
    "import keras\n",
    "from keras.models import Sequential\n",
    "from keras.layers import Dense, Dropout, Flatten\n",
    "from keras.layers import Conv2D, MaxPooling2D\n",
    "from keras.preprocessing.image import ImageDataGenerator\n",
    "\n",
    "%load_ext autoreload\n",
    "%autoreload 2"
   ]
  },
  {
   "cell_type": "markdown",
   "metadata": {},
   "source": [
    "We want to start off by creating a model:"
   ]
  },
  {
   "cell_type": "code",
   "execution_count": null,
   "metadata": {},
   "outputs": [],
   "source": [
    "def make_model(args):\n",
    "    num_classes = 10\n",
    "    \n",
    "    model = Sequential()\n",
    "    model.add(Conv2D(32, kernel_size=(args.kernel1, args.kernel1),\n",
    "                     activation='relu', input_shape=(28, 28, 1)))\n",
    "    model.add(Conv2D(64, (args.kernel2, args.kernel2), activation='relu'))\n",
    "    model.add(MaxPooling2D(pool_size=(args.poolsize, args.poolsize)))\n",
    "    model.add(Dropout(args.dropout1))\n",
    "    model.add(Flatten())\n",
    "    model.add(Dense(args.hidden, activation='relu'))\n",
    "    model.add(Dropout(args.dropout2))\n",
    "    model.add(Dense(num_classes, activation='softmax'))\n",
    "\n",
    "    model.compile(loss=keras.losses.categorical_crossentropy,\n",
    "                  optimizer=keras.optimizers.SGD(\n",
    "                      lr=args.lr, momentum=args.momentum),\n",
    "                  metrics=['accuracy'])\n",
    "    return model\n",
    "\n",
    "def train_mnist(args):\n",
    "    data_generator = load_data()\n",
    "    model = make_model(args)\n",
    "    for x_batch, y_batch in data_generator:\n",
    "        model.fit(x_batch, y_batch, verbose=0)\n",
    "    model.save_weights(\"./weights.h5\")"
   ]
  },
  {
   "cell_type": "markdown",
   "metadata": {},
   "source": [
    "*Then*, we want to train this model (try out default hyperparameters)"
   ]
  },
  {
   "cell_type": "markdown",
   "metadata": {},
   "source": [
    "Now, let's try running a simple search to find the best hyperparameters"
   ]
  },
  {
   "cell_type": "code",
   "execution_count": null,
   "metadata": {},
   "outputs": [],
   "source": [
    "import argparse\n",
    "parser = argparse.ArgumentParser(description='Keras MNIST Example')\n",
    "parser.add_argument('--steps', type=float, default=0.01, metavar='LR',\n",
    "                    help='learning rate (default: 0.01)')\n",
    "parser.add_argument('--lr', type=float, default=0.01, metavar='LR',\n",
    "                    help='learning rate (default: 0.01)')\n",
    "parser.add_argument('--momentum', type=float, default=0.5, metavar='M',\n",
    "                    help='SGD momentum (default: 0.5)')\n",
    "parser.add_argument('--kernel1', type=int, default=3,\n",
    "                    help='Size of first kernel (default: 3)')\n",
    "parser.add_argument('--kernel2', type=int, default=3,\n",
    "                    help='Size of second kernel (default: 3)')\n",
    "parser.add_argument('--poolsize', type=int, default=2,\n",
    "                    help='Size of Pooling (default: 2)')\n",
    "parser.add_argument('--dropout1', type=float, default=0.25,\n",
    "                    help='Size of first kernel (default: 0.25)')\n",
    "parser.add_argument('--hidden', type=int, default=128,\n",
    "                    help='Size of Hidden Layer (default: 128)')\n",
    "parser.add_argument('--dropout2', type=float, default=0.5,\n",
    "                    help='Size of first kernel (default: 0.5)')\n",
    "\n",
    "args = parser.parse_known_args()[0]"
   ]
  },
  {
   "cell_type": "code",
   "execution_count": null,
   "metadata": {},
   "outputs": [],
   "source": [
    "train_mnist(args)"
   ]
  },
  {
   "cell_type": "markdown",
   "metadata": {},
   "source": [
    "Now, let's use this machine with CPUs and multiplex our training to find the best parameters using a single machine."
   ]
  },
  {
   "cell_type": "code",
   "execution_count": null,
   "metadata": {},
   "outputs": [],
   "source": [
    "import ray\n",
    "from ray import tune"
   ]
  },
  {
   "cell_type": "code",
   "execution_count": null,
   "metadata": {},
   "outputs": [],
   "source": [
    "def train_mnist_tune(config, reporter):\n",
    "    data_generator = load_data()\n",
    "    model = make_model(args)\n",
    "    for x_batch, y_batch in data_generator:\n",
    "        result = model.fit(x_batch, y_batch, verbose=0)\n",
    "        reporter(mean_accuracy=result.history[\"acc\"][0])\n",
    "    model.save_weights(\"./weights_tune.h5\")"
   ]
  },
  {
   "cell_type": "code",
   "execution_count": null,
   "metadata": {},
   "outputs": [],
   "source": [
    "ray.init(ignore_reinit_error=True)\n",
    "\n",
    "configuration = tune.Experiment(\n",
    "    \"experiment_name\",\n",
    "    stop={\"mean_accuracy\": 0.99},\n",
    "    run=train_mnist_tune,\n",
    "    config={\n",
    "        \"lr\": lambda spec: np.random.uniform(0.001, 0.1),\n",
    "        \"momentum\": lambda spec: np.random.uniform(0.1, 0.9),\n",
    "        \"hidden\": lambda spec: np.random.randint(32, 512),\n",
    "        \"dropout1\": lambda spec: np.random.uniform(0.2, 0.8),\n",
    "    }\n",
    ")\n",
    "tune.run_experiments(configuration)"
   ]
  },
  {
   "cell_type": "markdown",
   "metadata": {},
   "source": [
    "## Try using a scheduler"
   ]
  },
  {
   "cell_type": "code",
   "execution_count": null,
   "metadata": {},
   "outputs": [],
   "source": [
    "from ray.tune.schedulers import AsyncHyperBandScheduler\n",
    "hyperband = AsyncHyperBandScheduler(\n",
    "    time_attr=\"training_iteration\",\n",
    "    reward_attr=\"mean_accuracy\")\n",
    "configuration.spec[\"num_samples\"] = 10"
   ]
  },
  {
   "cell_type": "code",
   "execution_count": null,
   "metadata": {},
   "outputs": [],
   "source": [
    "tune.run_experiments(configuration, scheduler=hyperband)"
   ]
  },
  {
   "cell_type": "markdown",
   "metadata": {},
   "source": [
    "# Try using a search algorithm"
   ]
  },
  {
   "cell_type": "code",
   "execution_count": null,
   "metadata": {},
   "outputs": [],
   "source": [
    "from ray.tune.suggest import HyperOptSearch\n",
    "space = {\n",
    "    \"lr\": hp.uniform(\"lr\", 0.001, 0.1),\n",
    "    \"momentum\": hp.uniform(\"momentum\", 0.1, 0.9),\n",
    "    \"hidden\": hp.quniform(\"hidden\", 32, 512, 1),\n",
    "    \"dropout1\": hp.uniform(\"dropout1\", 0.2, 0.8),\n",
    "}\n",
    "hyperopt = HyperOptSearch(space, max_concurrent=4, reward_attr=\"neg_mean_loss\")\n",
    "tune.run_experiments(configuration, search_alg=hyperopt, scheduler=hyperband)"
   ]
  },
  {
   "cell_type": "markdown",
   "metadata": {},
   "source": [
    "## (Optional) Fault Tolerance"
   ]
  },
  {
   "cell_type": "code",
   "execution_count": null,
   "metadata": {},
   "outputs": [],
   "source": [
    "class Model(tune.Trainable):\n",
    "    def _setup(self):\n",
    "        vars(args).update(self.config) #add this\n",
    "        self.model = make_model(args)\n",
    "        self.data_generator = load_data()\n",
    "    \n",
    "    def _train(self):\n",
    "        x_train, y_train = self.data_generator.next()\n",
    "        result = self.model.fit(x_batch, y_batch, verbose=0)\n",
    "        return {\"mean_accuracy\": result.history[\"acc\"][0]}\n",
    "    \n",
    "    def _save(self, checkpoint_dir):\n",
    "        checkpoint_path = os.path.join(checkpoint_dir, \"weights.h5\")\n",
    "        self.model.save_weights(checkpoint_path)\n",
    "    \n",
    "    def _restore(self, checkpoint_path):\n",
    "        self.model.load_weights(checkpoint_path)"
   ]
  },
  {
   "cell_type": "code",
   "execution_count": null,
   "metadata": {},
   "outputs": [],
   "source": [
    "ray.init(ignore_reinit_error=True)\n",
    "configuration = tune.Experiment(\n",
    "    \"experiment_name\",\n",
    "    stop={\"mean_accuracy\": 0.99},\n",
    "    run=Model,\n",
    "    config={\n",
    "        \"lr\": lambda spec: np.random.uniform(0.001, 0.1),\n",
    "        \"momentum\": lambda spec: np.random.uniform(0.1, 0.9),\n",
    "        \"hidden\": lambda spec: np.random.randint(32, 512),\n",
    "        \"dropout1\": lambda spec: np.random.uniform(0.2, 0.8),\n",
    "    },\n",
    "    checkpoint_at_end=True\n",
    ")\n",
    "tune.run_experiments(configuration)"
   ]
  },
  {
   "cell_type": "code",
   "execution_count": null,
   "metadata": {},
   "outputs": [],
   "source": []
  }
 ],
 "metadata": {
  "kernelspec": {
   "display_name": "Python 3",
   "language": "python",
   "name": "python3"
  },
  "language_info": {
   "codemirror_mode": {
    "name": "ipython",
    "version": 3
   },
   "file_extension": ".py",
   "mimetype": "text/x-python",
   "name": "python",
   "nbconvert_exporter": "python",
   "pygments_lexer": "ipython3",
   "version": "3.6.4"
  }
 },
 "nbformat": 4,
 "nbformat_minor": 2
}
